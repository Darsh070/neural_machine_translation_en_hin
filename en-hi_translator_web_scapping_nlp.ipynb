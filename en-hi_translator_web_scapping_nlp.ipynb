{
 "cells": [
  {
   "cell_type": "code",
   "execution_count": 6,
   "metadata": {},
   "outputs": [],
   "source": [
    "import requests\n",
    "header = {'User-agent': \"Mozilla/5.0 (Windows NT 10.0; Win64; x64) AppleWebKit/537.36 (KHTML, like Gecko) Chrome/84.0.4147.125 Safari/537.36\"}\n",
    "Request_URL= 'https://translate.googleapis.com/translate_a/single'"
   ]
  },
  {
   "cell_type": "code",
   "execution_count": 4,
   "metadata": {},
   "outputs": [],
   "source": [
    "import requests"
   ]
  },
  {
   "cell_type": "code",
   "execution_count": 9,
   "metadata": {},
   "outputs": [],
   "source": [
    "data = {\n",
    "    \"client\": \"gtx\",\n",
    "    \"sl\": \"en\",\n",
    "    \"tl\": \"hi\",\n",
    "    \"dt\": \"t\",\n",
    "    \"q\": \"Darshit solanki is rich man\"\n",
    "       }\n"
   ]
  },
  {
   "cell_type": "code",
   "execution_count": 12,
   "metadata": {},
   "outputs": [],
   "source": [
    "r = requests.get(url = Request_URL,headers=header,params=data )"
   ]
  },
  {
   "cell_type": "code",
   "execution_count": 14,
   "metadata": {},
   "outputs": [
    {
     "name": "stdout",
     "output_type": "stream",
     "text": [
      "[[[\"दर्शील सोलंकी अमीर आदमी हैं\",\"Darshit solanki is rich man\",null,null,3,null,null,[[]\n",
      "]\n",
      ",[[[\"45fe631ec73dbc3d36725ae03906463e\",\"en_hi_fay.md\"]\n",
      "]\n",
      "]\n",
      "]\n",
      "]\n",
      ",null,\"en\",null,null,null,null,[]\n",
      "]\n",
      "\n"
     ]
    }
   ],
   "source": [
    "print(r.text)"
   ]
  },
  {
   "cell_type": "code",
   "execution_count": null,
   "metadata": {},
   "outputs": [],
   "source": []
  }
 ],
 "metadata": {
  "kernelspec": {
   "display_name": "venv",
   "language": "python",
   "name": "venv"
  },
  "language_info": {
   "codemirror_mode": {
    "name": "ipython",
    "version": 3
   },
   "file_extension": ".py",
   "mimetype": "text/x-python",
   "name": "python",
   "nbconvert_exporter": "python",
   "pygments_lexer": "ipython3",
   "version": "3.7.0"
  }
 },
 "nbformat": 4,
 "nbformat_minor": 4
}
